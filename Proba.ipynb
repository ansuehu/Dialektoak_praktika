{
 "cells": [
  {
   "cell_type": "code",
   "execution_count": 1,
   "metadata": {},
   "outputs": [],
   "source": [
    "import numpy as np\n",
    "import pandas as pd"
   ]
  },
  {
   "cell_type": "code",
   "execution_count": 2,
   "metadata": {},
   "outputs": [],
   "source": [
    "# df_datubasea = pd.read_csv(r'G:\\My Drive\\Uni\\NLP Master\\Praktika Euskara Dialektoak\\Datu-basea_ euskalkien ezaugarri adierazgarriak eta bereizgarriak\\ESB-datu-basea-zutabeka-24XI-18.csv', sep='\\t')\n",
    "# datubasea = df_datubasea.to_numpy()\n",
    "# arrays = []\n",
    "# for i in range(649):\n",
    "#     arrays.append(datubasea[145*i:145*(i+1),3])\n",
    "# arrays = np.array(arrays)\n",
    "# matrix = np.column_stack(arrays)\n",
    "# df = pd.DataFrame(matrix.T)\n",
    "# df.to_csv(\"file.csv\")"
   ]
  },
  {
   "cell_type": "markdown",
   "metadata": {},
   "source": [
    "columnas = numero de items\n",
    "\n",
    "filas = ((n*n)-n)/2"
   ]
  },
  {
   "cell_type": "code",
   "execution_count": 12,
   "metadata": {},
   "outputs": [],
   "source": [
    "distances = pd.read_csv('./Datu-basea_ euskalkien ezaugarri adierazgarriak eta bereizgarriak/Matriz-distancias del ESB-Diatech z-24-04-02.csv').drop(\"Unnamed: 0\", axis=1).to_numpy()\n",
    "clusters = pd.read_csv('./Datu-basea_ euskalkien ezaugarri adierazgarriak eta bereizgarriak/fanny_clusters.csv').T.to_numpy()[0]-1\n",
    "membership = pd.read_csv('./Datu-basea_ euskalkien ezaugarri adierazgarriak eta bereizgarriak/fanny_membership.csv').to_numpy()\n",
    "datubasea = pd.read_csv('./Datu-basea_ euskalkien ezaugarri adierazgarriak eta bereizgarriak/ESB-datu-basea-taula.csv').T.drop('Unnamed: 0').T.to_numpy()"
   ]
  },
  {
   "cell_type": "markdown",
   "metadata": {},
   "source": [
    "- Datos de entrada: \n",
    "    - Los datos \n",
    "    - n_clusters \n",
    "    - Distancia (IRI, Levenshtein, ...)\n",
    "\n",
    "- Lo que tenemos que hacer: \n",
    "\n",
    "    - Calcular la distancia\n",
    "    - Aplicar la clasificacion no determinista.\n",
    "        - Interna: u_ij (Probabilidades de pertenencia)\n",
    "        - Externa: Grupo 1: p_i, .... (El grupo que asignas es la mayor probabilidad)\n",
    "    - Matriz de interdistancias para cada item\n",
    "        - Estabilidad, Variabilidad y Diferenciacion\n",
    "        - Listado de items que son los mas distintivos y estables\n",
    "\n",
    "- Salida:\n",
    "    - Poblaciones de cada grupo\n",
    "    - Los u_ij\n",
    "    - Listado de los items (top 10 adibidez)\n",
    "\n",
    "\n",
    "- Ver como está implementado Diatech (Gotzon-i eskau)\n",
    "- Ver la distancia Levenshtein si esta implementado\n",
    " "
   ]
  },
  {
   "cell_type": "code",
   "execution_count": 5,
   "metadata": {},
   "outputs": [
    {
     "data": {
      "text/plain": [
       "array([[0.33333338, 0.33333328, 0.33333334],\n",
       "       [0.33333343, 0.33333323, 0.33333334],\n",
       "       [0.33333331, 0.33333336, 0.33333333],\n",
       "       [0.33333344, 0.33333321, 0.33333335],\n",
       "       [0.33333337, 0.3333333 , 0.33333334],\n",
       "       [0.33333341, 0.33333325, 0.33333334],\n",
       "       [0.3333334 , 0.33333325, 0.33333334],\n",
       "       [0.33333331, 0.33333336, 0.33333333],\n",
       "       [0.33333332, 0.33333335, 0.33333333],\n",
       "       [0.33333338, 0.33333329, 0.33333334],\n",
       "       [0.33333324, 0.33333343, 0.33333332],\n",
       "       [0.33333326, 0.33333342, 0.33333332],\n",
       "       [0.33333333, 0.33333334, 0.33333333],\n",
       "       [0.33333343, 0.33333323, 0.33333334],\n",
       "       [0.33333344, 0.33333322, 0.33333335],\n",
       "       [0.33333344, 0.33333321, 0.33333335],\n",
       "       [0.33333342, 0.33333324, 0.33333334],\n",
       "       [0.33333325, 0.33333343, 0.33333332],\n",
       "       [0.33333324, 0.33333344, 0.33333332],\n",
       "       [0.33333324, 0.33333344, 0.33333332],\n",
       "       [0.33333343, 0.33333323, 0.33333334],\n",
       "       [0.33333331, 0.33333336, 0.33333333],\n",
       "       [0.3333333 , 0.33333337, 0.33333333],\n",
       "       [0.33333341, 0.33333325, 0.33333334],\n",
       "       [0.33333328, 0.33333339, 0.33333333],\n",
       "       [0.3333333 , 0.33333337, 0.33333333],\n",
       "       [0.33333344, 0.33333322, 0.33333335],\n",
       "       [0.33333324, 0.33333343, 0.33333332],\n",
       "       [0.33333342, 0.33333324, 0.33333334],\n",
       "       [0.3333334 , 0.33333326, 0.33333334],\n",
       "       [0.33333342, 0.33333323, 0.33333334],\n",
       "       [0.33333331, 0.33333336, 0.33333333],\n",
       "       [0.33333343, 0.33333322, 0.33333335],\n",
       "       [0.3333333 , 0.33333337, 0.33333333],\n",
       "       [0.33333327, 0.33333341, 0.33333333],\n",
       "       [0.33333326, 0.33333341, 0.33333332],\n",
       "       [0.33333324, 0.33333344, 0.33333332],\n",
       "       [0.33333334, 0.33333333, 0.33333333],\n",
       "       [0.33333343, 0.33333323, 0.33333334],\n",
       "       [0.33333344, 0.33333322, 0.33333335],\n",
       "       [0.33333325, 0.33333343, 0.33333332],\n",
       "       [0.33333324, 0.33333343, 0.33333332],\n",
       "       [0.33333329, 0.33333339, 0.33333333],\n",
       "       [0.33333324, 0.33333343, 0.33333332],\n",
       "       [0.33333343, 0.33333323, 0.33333334],\n",
       "       [0.33333336, 0.3333333 , 0.33333334],\n",
       "       [0.33333341, 0.33333325, 0.33333334],\n",
       "       [0.33333332, 0.33333335, 0.33333333],\n",
       "       [0.33333333, 0.33333334, 0.33333333],\n",
       "       [0.33333326, 0.33333341, 0.33333333],\n",
       "       [0.33333325, 0.33333342, 0.33333332],\n",
       "       [0.33333331, 0.33333336, 0.33333333],\n",
       "       [0.33333327, 0.3333334 , 0.33333333],\n",
       "       [0.33333325, 0.33333343, 0.33333332],\n",
       "       [0.33333338, 0.33333328, 0.33333334],\n",
       "       [0.33333331, 0.33333336, 0.33333333],\n",
       "       [0.33333325, 0.33333343, 0.33333332],\n",
       "       [0.33333339, 0.33333326, 0.33333334],\n",
       "       [0.33333337, 0.33333329, 0.33333334],\n",
       "       [0.33333335, 0.33333332, 0.33333334],\n",
       "       [0.33333333, 0.33333334, 0.33333333],\n",
       "       [0.33333325, 0.33333342, 0.33333332],\n",
       "       [0.33333325, 0.33333343, 0.33333332],\n",
       "       [0.33333337, 0.3333333 , 0.33333334],\n",
       "       [0.3333333 , 0.33333337, 0.33333333],\n",
       "       [0.33333334, 0.33333333, 0.33333333],\n",
       "       [0.33333343, 0.33333322, 0.33333335],\n",
       "       [0.33333325, 0.33333343, 0.33333332],\n",
       "       [0.33333332, 0.33333335, 0.33333333],\n",
       "       [0.33333343, 0.33333322, 0.33333335],\n",
       "       [0.33333342, 0.33333323, 0.33333334],\n",
       "       [0.3333333 , 0.33333337, 0.33333333],\n",
       "       [0.33333326, 0.33333341, 0.33333332],\n",
       "       [0.33333325, 0.33333343, 0.33333332],\n",
       "       [0.33333334, 0.33333333, 0.33333333],\n",
       "       [0.33333342, 0.33333323, 0.33333334],\n",
       "       [0.33333339, 0.33333327, 0.33333334],\n",
       "       [0.33333331, 0.33333336, 0.33333333],\n",
       "       [0.33333333, 0.33333334, 0.33333333],\n",
       "       [0.33333324, 0.33333343, 0.33333332],\n",
       "       [0.33333334, 0.33333333, 0.33333333],\n",
       "       [0.33333331, 0.33333336, 0.33333333],\n",
       "       [0.33333343, 0.33333323, 0.33333334],\n",
       "       [0.33333342, 0.33333323, 0.33333334],\n",
       "       [0.33333343, 0.33333323, 0.33333334],\n",
       "       [0.33333337, 0.33333329, 0.33333334],\n",
       "       [0.33333342, 0.33333323, 0.33333334],\n",
       "       [0.33333325, 0.33333343, 0.33333332],\n",
       "       [0.33333343, 0.33333323, 0.33333334],\n",
       "       [0.33333325, 0.33333343, 0.33333332],\n",
       "       [0.33333339, 0.33333327, 0.33333334],\n",
       "       [0.33333342, 0.33333323, 0.33333334],\n",
       "       [0.33333332, 0.33333335, 0.33333333],\n",
       "       [0.33333326, 0.33333341, 0.33333332],\n",
       "       [0.3333333 , 0.33333337, 0.33333333],\n",
       "       [0.33333326, 0.33333341, 0.33333332],\n",
       "       [0.33333326, 0.33333341, 0.33333333],\n",
       "       [0.33333333, 0.33333334, 0.33333333],\n",
       "       [0.33333337, 0.33333329, 0.33333334],\n",
       "       [0.33333326, 0.33333341, 0.33333332],\n",
       "       [0.33333326, 0.33333342, 0.33333332],\n",
       "       [0.33333327, 0.33333341, 0.33333333],\n",
       "       [0.33333342, 0.33333324, 0.33333334],\n",
       "       [0.33333342, 0.33333324, 0.33333334],\n",
       "       [0.33333325, 0.33333343, 0.33333332],\n",
       "       [0.33333328, 0.33333339, 0.33333333],\n",
       "       [0.33333325, 0.33333342, 0.33333332],\n",
       "       [0.33333336, 0.3333333 , 0.33333334],\n",
       "       [0.33333339, 0.33333327, 0.33333334],\n",
       "       [0.33333341, 0.33333325, 0.33333334],\n",
       "       [0.33333326, 0.33333342, 0.33333332],\n",
       "       [0.33333333, 0.33333334, 0.33333333],\n",
       "       [0.33333333, 0.33333334, 0.33333333],\n",
       "       [0.33333327, 0.3333334 , 0.33333333],\n",
       "       [0.33333327, 0.33333341, 0.33333333],\n",
       "       [0.33333332, 0.33333335, 0.33333333],\n",
       "       [0.33333331, 0.33333336, 0.33333333],\n",
       "       [0.33333326, 0.33333342, 0.33333332],\n",
       "       [0.33333325, 0.33333342, 0.33333332],\n",
       "       [0.3333334 , 0.33333326, 0.33333334],\n",
       "       [0.33333332, 0.33333335, 0.33333333],\n",
       "       [0.33333339, 0.33333327, 0.33333334],\n",
       "       [0.3333334 , 0.33333326, 0.33333334],\n",
       "       [0.3333334 , 0.33333326, 0.33333334],\n",
       "       [0.33333339, 0.33333327, 0.33333334],\n",
       "       [0.33333327, 0.33333341, 0.33333333],\n",
       "       [0.33333336, 0.33333331, 0.33333334],\n",
       "       [0.33333336, 0.33333331, 0.33333334],\n",
       "       [0.33333331, 0.33333335, 0.33333333],\n",
       "       [0.33333342, 0.33333323, 0.33333334],\n",
       "       [0.33333332, 0.33333335, 0.33333333],\n",
       "       [0.3333334 , 0.33333326, 0.33333334],\n",
       "       [0.33333341, 0.33333325, 0.33333334],\n",
       "       [0.3333333 , 0.33333337, 0.33333333],\n",
       "       [0.33333339, 0.33333327, 0.33333334],\n",
       "       [0.33333341, 0.33333325, 0.33333334],\n",
       "       [0.33333326, 0.33333342, 0.33333332],\n",
       "       [0.33333326, 0.33333342, 0.33333332],\n",
       "       [0.33333326, 0.33333341, 0.33333332],\n",
       "       [0.33333331, 0.33333336, 0.33333333],\n",
       "       [0.33333331, 0.33333336, 0.33333333],\n",
       "       [0.33333337, 0.33333329, 0.33333334],\n",
       "       [0.33333326, 0.33333341, 0.33333332],\n",
       "       [0.33333326, 0.33333342, 0.33333332],\n",
       "       [0.33333338, 0.33333329, 0.33333334]])"
      ]
     },
     "execution_count": 5,
     "metadata": {},
     "output_type": "execute_result"
    }
   ],
   "source": [
    "membership"
   ]
  },
  {
   "cell_type": "code",
   "execution_count": null,
   "metadata": {},
   "outputs": [
    {
     "data": {
      "text/plain": [
       "10440"
      ]
     },
     "execution_count": 6,
     "metadata": {},
     "output_type": "execute_result"
    }
   ],
   "source": [
    "int(145*(145-1)/2)\n",
    "print(\"a\")"
   ]
  },
  {
   "cell_type": "code",
   "execution_count": 12,
   "metadata": {},
   "outputs": [],
   "source": [
    "a = np.zeros((int(145*(145-1)/2),649))\n",
    "np.savetxt('scores.csv', a)"
   ]
  },
  {
   "cell_type": "code",
   "execution_count": 6,
   "metadata": {},
   "outputs": [],
   "source": [
    "def bilbao_d(items1, items2):\n",
    "\n",
    "    bat = sum(1 for item in items1 if item in items2) \n",
    "    bat += sum(1 for item in items2 if item in items1)\n",
    "    \n",
    "    return 1 - (bat/(len(items1)+len(items2)))"
   ]
  },
  {
   "cell_type": "code",
   "execution_count": 10,
   "metadata": {},
   "outputs": [
    {
     "data": {
      "text/plain": [
       "1.0"
      ]
     },
     "execution_count": 10,
     "metadata": {},
     "output_type": "execute_result"
    }
   ],
   "source": [
    "bilbao_d([\"a\", \"b\"], [\"c\"])"
   ]
  },
  {
   "cell_type": "code",
   "execution_count": null,
   "metadata": {},
   "outputs": [],
   "source": [
    "def kalkulatu_estabilitatea(datubasea, membership, galdera, cluster):\n",
    "    \n",
    "    c, elementuak = cluster\n",
    "    n = len(elementuak)\n",
    "    \n",
    "    batura = 0\n",
    "    pisuen_batura = 0\n",
    "    for i in range(n):\n",
    "        for j in range(i+1, n):\n",
    "            if datubasea[galdera, i] != datubasea[galdera, i] or datubasea[galdera, j] != datubasea[galdera, j]:\n",
    "                distantzia = 1\n",
    "            else: \n",
    "                distantzia = bilbao_d(datubasea[galdera, i].split(','), datubasea[galdera, j].split(','))\n",
    "                \n",
    "            pisuak = membership[i, c] * membership[j, c]\n",
    "            pisuen_batura += pisuak\n",
    "            batura += distantzia * pisuak\n",
    "\n",
    "    return batura*2/(pisuen_batura)\n",
    "\n",
    "def kalkulatu_bariabilitatea(datubasea, membership, galdera, cluster1, cluster2):\n",
    "    \n",
    "    c1, elementuak1 = cluster1\n",
    "    n1 = len(elementuak1)\n",
    "\n",
    "    c2, elementuak2 = cluster2\n",
    "    n2 = len(elementuak2)\n",
    "\n",
    "    batura = 0\n",
    "    pisuen_batura = 0\n",
    "    for i in range(n1):\n",
    "        for j in range(n2):\n",
    "            if datubasea[galdera, i]!=datubasea[galdera, i] or datubasea[galdera, j]!=datubasea[galdera, j]:\n",
    "                distantzia = 1\n",
    "            else:\n",
    "                distantzia = bilbao_d(datubasea[galdera, i].split(','), datubasea[galdera, j].split(','))\n",
    "            pisuak = membership[i, c1] * membership[j, c2]\n",
    "            pisuen_batura += pisuak\n",
    "            batura += distantzia * pisuak\n",
    "\n",
    "    return batura/(pisuen_batura)\n",
    "\n",
    "def kalkulatu_diferentziazioa(datubasea, membership, galdera, cluster1, cluster2):\n",
    "    \n",
    "    estabilitatea1 = kalkulatu_estabilitatea(datubasea, membership, galdera, cluster1)\n",
    "    estabilitatea2 = kalkulatu_estabilitatea(datubasea, membership, galdera, cluster2)\n",
    "    bariabilitatea1_2 = kalkulatu_bariabilitatea(datubasea, membership, galdera, cluster1, cluster2)\n",
    "    \n",
    "    return bariabilitatea1_2 / max(estabilitatea1, estabilitatea2, 1e-6)\n"
   ]
  },
  {
   "cell_type": "code",
   "execution_count": 14,
   "metadata": {},
   "outputs": [],
   "source": [
    "c1 = 0\n",
    "c2 = 2\n",
    "\n",
    "cluster1 = (c1, np.where(clusters == c1)[0])\n",
    "cluster2 = (c2, np.where(clusters == c2)[0])\n",
    "\n",
    "diferenetziazioak = {}\n",
    "for galdera in range(len(datubasea)):\n",
    "    diferenetziazioak[galdera] = kalkulatu_diferentziazioa(datubasea, membership, galdera, cluster1, cluster2)\n",
    "\n",
    "sorted_dict = dict(sorted(diferenetziazioak.items(), key=lambda item: item[1], reverse=True))\n",
    "\n",
    "top3_item = list(sorted_dict.keys())[:3]"
   ]
  },
  {
   "cell_type": "code",
   "execution_count": 18,
   "metadata": {},
   "outputs": [
    {
     "data": {
      "text/plain": [
       "(0, array([  0,   4,   9,  45,  54,  58,  63,  98, 107, 126, 127, 141, 144]))"
      ]
     },
     "execution_count": 18,
     "metadata": {},
     "output_type": "execute_result"
    }
   ],
   "source": [
    "cluster1"
   ]
  },
  {
   "cell_type": "code",
   "execution_count": null,
   "metadata": {},
   "outputs": [
    {
     "name": "stdout",
     "output_type": "stream",
     "text": [
      "['dakoz' 'dakoz' 'dakoz' 'zakoz' 'zaizko' 'zaizka,zaizkio,zaizko' 'zazkio'\n",
      " 'zaizkio' 'zakote' 'zazko' 'zazko' 'zaitzo' 'zaie,zaitzo']\n",
      "['jakoz' 'jakoz' 'jakoz' 'jakoz' 'jakoz' 'zaizko' 'zaizkio,zaizka' 'zaio'\n",
      " 'zaizkio' 'zazkio' 'zazkio' 'zaizko' 'dakote' 'zaizko' 'zei']\n",
      "------\n",
      "['dako' 'dako' 'dako' 'zako,zako' 'zaio' 'zaio' 'zaio' 'zaio' 'zako,zaio'\n",
      " 'zako' 'zako' 'zaio,zao' 'zako,zao,zaio']\n",
      "['jako' 'jako' 'jako' 'jako' 'jako' 'zako' 'zaio' 'zaio' 'zaio' 'zaio'\n",
      " 'zaio' 'zaio' 'dako,zako' 'zako' 'zako']\n",
      "------\n",
      "['dat' 'dat' 'dat' 'zat' 'zat' 'zat' 'zait' 'zait' 'zaut' 'zaut' 'zait'\n",
      " 'zait' 'zait']\n",
      "['jat' 'jat' 'jat' 'jat' 'jat' 'Zait,zat' 'zait,zat' 'zat' 'zait'\n",
      " 'zat,zait' 'zait' 'zait' 'zaut' 'zaut' 'zaut,zat']\n"
     ]
    }
   ],
   "source": [
    "print(datubasea[top3_item[0], cluster1[1]])\n",
    "print(datubasea[top3_item[0], cluster2[1]])\n",
    "print(\"------\")\n",
    "print(datubasea[top3_item[1], cluster1[1]])\n",
    "print(datubasea[top3_item[1], cluster2[1]])\n",
    "print(\"------\")\n",
    "print(datubasea[top3_item[2], cluster1[1]])\n",
    "print(datubasea[top3_item[2], cluster2[1]])"
   ]
  }
 ],
 "metadata": {
  "kernelspec": {
   "display_name": "Python 3",
   "language": "python",
   "name": "python3"
  },
  "language_info": {
   "codemirror_mode": {
    "name": "ipython",
    "version": 3
   },
   "file_extension": ".py",
   "mimetype": "text/x-python",
   "name": "python",
   "nbconvert_exporter": "python",
   "pygments_lexer": "ipython3",
   "version": "3.12.7"
  }
 },
 "nbformat": 4,
 "nbformat_minor": 2
}
